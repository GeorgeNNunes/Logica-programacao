{
  "nbformat": 4,
  "nbformat_minor": 0,
  "metadata": {
    "colab": {
      "provenance": []
    },
    "kernelspec": {
      "name": "python3",
      "display_name": "Python 3"
    },
    "language_info": {
      "name": "python"
    }
  },
  "cells": [
    {
      "cell_type": "code",
      "execution_count": 1,
      "metadata": {
        "colab": {
          "base_uri": "https://localhost:8080/"
        },
        "id": "2pZE18C2LSXH",
        "outputId": "5bab2c89-4451-48a2-c26c-6a464d713d55"
      },
      "outputs": [
        {
          "output_type": "stream",
          "name": "stdout",
          "text": [
            "Digite o ValorA: 5\n",
            "Digite O ValorB: 5\n",
            "Digite a operação (+, -, *, /): +\n",
            "O resultado é: 10\n"
          ]
        }
      ],
      "source": [
        "Valor_A = int(input(\"Digite o ValorA: \"))\n",
        "Valor_B = int(input(\"Digite O ValorB: \"))\n",
        "operação = input(\"Digite a operação (+, -, *, /): \")\n",
        "if   operação == \"+\":\n",
        "    resultado = Valor_A + Valor_B\n",
        "elif operação == \"-\":\n",
        "    resultado = Valor_A - Valor_B\n",
        "elif operação == \"*\":\n",
        "    resultado = Valor_A * Valor_B\n",
        "elif operação == \"/\":\n",
        "    resultado = Valor_A / Valor_B\n",
        "else:\n",
        "    print(\"Operação inválida\")\n",
        "    resultado = None\n",
        "\n",
        "if  resultado is not None:\n",
        "    print(f\"O resultado é: {resultado}\")\n"
      ]
    }
  ]
}