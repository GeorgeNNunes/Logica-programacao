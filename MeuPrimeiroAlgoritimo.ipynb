{
  "nbformat": 4,
  "nbformat_minor": 0,
  "metadata": {
    "colab": {
      "provenance": []
    },
    "kernelspec": {
      "name": "python3",
      "display_name": "Python 3"
    },
    "language_info": {
      "name": "python"
    }
  },
  "cells": [
    {
      "cell_type": "markdown",
      "source": [
        "##Meu primeiro código"
      ],
      "metadata": {
        "id": "uqtZqhyZqdNZ"
      }
    },
    {
      "cell_type": "code",
      "execution_count": null,
      "metadata": {
        "colab": {
          "base_uri": "https://localhost:8080/"
        },
        "id": "DIxQN0Z5i3zA",
        "outputId": "203cc3c4-4a68-4e44-d446-8fb81f957b90"
      },
      "outputs": [
        {
          "output_type": "stream",
          "name": "stdout",
          "text": [
            "Olá Mundo!\n"
          ]
        }
      ],
      "source": [
        "print(\"Olá Mundo!\")"
      ]
    },
    {
      "cell_type": "markdown",
      "source": [
        "##Operadores Aritiméticos"
      ],
      "metadata": {
        "id": "CPFIS5L3qIUS"
      }
    },
    {
      "cell_type": "code",
      "source": [
        "#Adição\n",
        "10+2"
      ],
      "metadata": {
        "colab": {
          "base_uri": "https://localhost:8080/"
        },
        "id": "7UvGR0jUoMPR",
        "outputId": "f84a45d0-e242-412a-e054-edf1b3a85075"
      },
      "execution_count": 6,
      "outputs": [
        {
          "output_type": "execute_result",
          "data": {
            "text/plain": [
              "12"
            ]
          },
          "metadata": {},
          "execution_count": 6
        }
      ]
    },
    {
      "cell_type": "code",
      "source": [
        "#Subtração\n",
        "10-2"
      ],
      "metadata": {
        "colab": {
          "base_uri": "https://localhost:8080/"
        },
        "id": "nrCTgLkUodUH",
        "outputId": "23410dc9-b9d8-4ca5-fdca-302cc034c7ec"
      },
      "execution_count": 3,
      "outputs": [
        {
          "output_type": "execute_result",
          "data": {
            "text/plain": [
              "8"
            ]
          },
          "metadata": {},
          "execution_count": 3
        }
      ]
    },
    {
      "cell_type": "code",
      "source": [
        "#Multiplicação\n",
        "10*2"
      ],
      "metadata": {
        "colab": {
          "base_uri": "https://localhost:8080/"
        },
        "id": "hiTRdRDVotxu",
        "outputId": "9f74d66b-6e46-4939-e55e-51f342b4cb70"
      },
      "execution_count": 4,
      "outputs": [
        {
          "output_type": "execute_result",
          "data": {
            "text/plain": [
              "20"
            ]
          },
          "metadata": {},
          "execution_count": 4
        }
      ]
    },
    {
      "cell_type": "code",
      "source": [
        "#Divisão inteira\n",
        "10//2"
      ],
      "metadata": {
        "colab": {
          "base_uri": "https://localhost:8080/"
        },
        "id": "E2cNJhU5o6Ro",
        "outputId": "5df1663a-bdc9-4ec7-8857-4917e5d35bbd"
      },
      "execution_count": 5,
      "outputs": [
        {
          "output_type": "execute_result",
          "data": {
            "text/plain": [
              "5"
            ]
          },
          "metadata": {},
          "execution_count": 5
        }
      ]
    },
    {
      "cell_type": "code",
      "source": [
        "#Resto da divisão\n",
        "10%2"
      ],
      "metadata": {
        "colab": {
          "base_uri": "https://localhost:8080/"
        },
        "id": "tD34cpY6osRh",
        "outputId": "0e95f691-5eb8-4983-c4df-3c899620535c"
      },
      "execution_count": 7,
      "outputs": [
        {
          "output_type": "execute_result",
          "data": {
            "text/plain": [
              "0"
            ]
          },
          "metadata": {},
          "execution_count": 7
        }
      ]
    },
    {
      "cell_type": "code",
      "source": [
        "#Potencializão\n",
        "10**2"
      ],
      "metadata": {
        "colab": {
          "base_uri": "https://localhost:8080/"
        },
        "id": "plzndsMSpuwH",
        "outputId": "3500469c-40a3-4f0d-a963-1ca20940512a"
      },
      "execution_count": 8,
      "outputs": [
        {
          "output_type": "execute_result",
          "data": {
            "text/plain": [
              "100"
            ]
          },
          "metadata": {},
          "execution_count": 8
        }
      ]
    },
    {
      "cell_type": "markdown",
      "source": [
        "##Operadores relacionais"
      ],
      "metadata": {
        "id": "Ym97ua0IrStF"
      }
    },
    {
      "cell_type": "code",
      "source": [
        "#Menor\n",
        "10 < 2"
      ],
      "metadata": {
        "colab": {
          "base_uri": "https://localhost:8080/"
        },
        "id": "FqhCXVgcsIqd",
        "outputId": "8f8f4da0-17ab-481a-afc0-159df8aad604"
      },
      "execution_count": 9,
      "outputs": [
        {
          "output_type": "execute_result",
          "data": {
            "text/plain": [
              "False"
            ]
          },
          "metadata": {},
          "execution_count": 9
        }
      ]
    },
    {
      "cell_type": "code",
      "source": [
        "#Menor ou igual\n",
        "10 <= 2"
      ],
      "metadata": {
        "colab": {
          "base_uri": "https://localhost:8080/"
        },
        "id": "CaCG84XRsePI",
        "outputId": "572611b2-efe1-4f3d-fb6c-9aeb87202358"
      },
      "execution_count": 10,
      "outputs": [
        {
          "output_type": "execute_result",
          "data": {
            "text/plain": [
              "False"
            ]
          },
          "metadata": {},
          "execution_count": 10
        }
      ]
    },
    {
      "cell_type": "code",
      "source": [
        "#Maior\n",
        "10 > 2"
      ],
      "metadata": {
        "colab": {
          "base_uri": "https://localhost:8080/"
        },
        "id": "PNY85wKws5F3",
        "outputId": "4596fb71-3d7b-400e-b9ee-0f63dd12837b"
      },
      "execution_count": 11,
      "outputs": [
        {
          "output_type": "execute_result",
          "data": {
            "text/plain": [
              "True"
            ]
          },
          "metadata": {},
          "execution_count": 11
        }
      ]
    },
    {
      "cell_type": "code",
      "source": [
        "#Igual\n",
        "7 == 7"
      ],
      "metadata": {
        "colab": {
          "base_uri": "https://localhost:8080/"
        },
        "id": "pv46wCPTs_xM",
        "outputId": "74c29ff2-58ef-48f0-a685-0ba686249208"
      },
      "execution_count": 12,
      "outputs": [
        {
          "output_type": "execute_result",
          "data": {
            "text/plain": [
              "True"
            ]
          },
          "metadata": {},
          "execution_count": 12
        }
      ]
    },
    {
      "cell_type": "code",
      "source": [
        "#Diferente\n",
        "7 != 7"
      ],
      "metadata": {
        "colab": {
          "base_uri": "https://localhost:8080/"
        },
        "id": "YkjZMARNtd72",
        "outputId": "a4b02a6c-46da-4808-b8ae-09e074a62825"
      },
      "execution_count": 13,
      "outputs": [
        {
          "output_type": "execute_result",
          "data": {
            "text/plain": [
              "False"
            ]
          },
          "metadata": {},
          "execution_count": 13
        }
      ]
    },
    {
      "cell_type": "markdown",
      "source": [
        "##Operadores Lógicos"
      ],
      "metadata": {
        "id": "c1_j2bUjtp9n"
      }
    },
    {
      "cell_type": "markdown",
      "source": [
        ". And"
      ],
      "metadata": {
        "id": "YfjmlNuQvFnL"
      }
    },
    {
      "cell_type": "markdown",
      "source": [
        ". Or"
      ],
      "metadata": {
        "id": "yvrsPiKavJ0F"
      }
    },
    {
      "cell_type": "markdown",
      "source": [
        ". Not"
      ],
      "metadata": {
        "id": "B6cfVh8WvMse"
      }
    },
    {
      "cell_type": "markdown",
      "source": [
        "##Tabela Verdade"
      ],
      "metadata": {
        "id": "Yp_bg7yXvZ5s"
      }
    },
    {
      "cell_type": "markdown",
      "source": [
        "And"
      ],
      "metadata": {
        "id": "vhJR9vHDvhGc"
      }
    },
    {
      "cell_type": "code",
      "source": [
        "print(10 > 2 and 4 < 6)      # V and V - V\n",
        "print(10 > 2 and 4 > 6)      # V and F - F\n",
        "print(10 < 2 and 4 < 6)      # V and F - F\n",
        "print(10 < 2 and 4 > 6)      # V and F - F"
      ],
      "metadata": {
        "colab": {
          "base_uri": "https://localhost:8080/"
        },
        "id": "a7eFjaiUvibn",
        "outputId": "bbe5a5a5-240a-41b1-bd95-d8bf5a6b336d"
      },
      "execution_count": 14,
      "outputs": [
        {
          "output_type": "stream",
          "name": "stdout",
          "text": [
            "True\n",
            "False\n",
            "False\n",
            "False\n"
          ]
        }
      ]
    },
    {
      "cell_type": "markdown",
      "source": [
        "Or"
      ],
      "metadata": {
        "id": "FbKU5Kcexjsk"
      }
    },
    {
      "cell_type": "code",
      "source": [
        "print(10 > 2 or 4 <6)  # V and V - V\n",
        "print(10 > 2 or 4 >6)  # V and F - V\n",
        "print(10 < 2 or 4 <6)  # F and V - V\n",
        "print(10 < 2 or 4 >6)  # F and F - F"
      ],
      "metadata": {
        "colab": {
          "base_uri": "https://localhost:8080/"
        },
        "id": "EVdqG-xPxzT5",
        "outputId": "9a9cc055-14d3-4e4d-fee2-646aec4fc32c"
      },
      "execution_count": 17,
      "outputs": [
        {
          "output_type": "stream",
          "name": "stdout",
          "text": [
            "True\n",
            "True\n",
            "True\n",
            "False\n"
          ]
        }
      ]
    },
    {
      "cell_type": "markdown",
      "source": [
        "Not"
      ],
      "metadata": {
        "id": "CrKjb5pzzNhR"
      }
    },
    {
      "cell_type": "code",
      "source": [
        "not 10 > 2     # V - F"
      ],
      "metadata": {
        "colab": {
          "base_uri": "https://localhost:8080/"
        },
        "id": "NEpZrpp9zPaz",
        "outputId": "b822220c-e2aa-4176-fe55-3b0d0f77f88d"
      },
      "execution_count": 18,
      "outputs": [
        {
          "output_type": "execute_result",
          "data": {
            "text/plain": [
              "False"
            ]
          },
          "metadata": {},
          "execution_count": 18
        }
      ]
    },
    {
      "cell_type": "code",
      "source": [
        "not 10 < 2     #F - V"
      ],
      "metadata": {
        "colab": {
          "base_uri": "https://localhost:8080/"
        },
        "id": "8IoD8krw0BEH",
        "outputId": "5956878d-f698-4019-aaa6-3081df81c517"
      },
      "execution_count": 19,
      "outputs": [
        {
          "output_type": "execute_result",
          "data": {
            "text/plain": [
              "True"
            ]
          },
          "metadata": {},
          "execution_count": 19
        }
      ]
    },
    {
      "cell_type": "markdown",
      "source": [
        "##Variaveis"
      ],
      "metadata": {
        "id": "f1301GfmiVWx"
      }
    },
    {
      "cell_type": "markdown",
      "source": [
        ".Adição"
      ],
      "metadata": {
        "id": "WO9ABNY8m0rd"
      }
    },
    {
      "cell_type": "code",
      "source": [
        "a = 2\n",
        "b = 2\n",
        "soma = a + b\n",
        "\n",
        "print(soma)"
      ],
      "metadata": {
        "colab": {
          "base_uri": "https://localhost:8080/"
        },
        "id": "HiVsOIVTifWt",
        "outputId": "a21dbffb-c914-46f2-a52d-967dd00fc9ac"
      },
      "execution_count": 10,
      "outputs": [
        {
          "output_type": "stream",
          "name": "stdout",
          "text": [
            "4\n"
          ]
        }
      ]
    },
    {
      "cell_type": "markdown",
      "source": [
        ".Multiplição"
      ],
      "metadata": {
        "id": "HeevxZnInIvU"
      }
    },
    {
      "cell_type": "code",
      "source": [
        "a = 2\n",
        "b = 2\n",
        "mult = a * b\n",
        "\n",
        "print(mult)"
      ],
      "metadata": {
        "colab": {
          "base_uri": "https://localhost:8080/"
        },
        "id": "sjHA_66CnWO9",
        "outputId": "48db3f31-f127-4aa4-f4bb-24be3dd46c18"
      },
      "execution_count": 11,
      "outputs": [
        {
          "output_type": "stream",
          "name": "stdout",
          "text": [
            "4\n"
          ]
        }
      ]
    },
    {
      "cell_type": "markdown",
      "source": [
        ".Sbubitração"
      ],
      "metadata": {
        "id": "NAoj3jp8nsx7"
      }
    },
    {
      "cell_type": "code",
      "source": [
        "a = 2\n",
        "b = 2\n",
        "sub = a -b\n",
        "print(sub)"
      ],
      "metadata": {
        "colab": {
          "base_uri": "https://localhost:8080/"
        },
        "id": "e7Sh5f56nwbo",
        "outputId": "da4f322a-68b8-4793-dc57-02460bb7395e"
      },
      "execution_count": 12,
      "outputs": [
        {
          "output_type": "stream",
          "name": "stdout",
          "text": [
            "0\n"
          ]
        }
      ]
    },
    {
      "cell_type": "markdown",
      "source": [
        ".Divição"
      ],
      "metadata": {
        "id": "426peb4rn9tZ"
      }
    },
    {
      "cell_type": "code",
      "source": [
        "a = 2\n",
        "b = 2\n",
        "\n",
        "div = a / b\n",
        "print(div)"
      ],
      "metadata": {
        "colab": {
          "base_uri": "https://localhost:8080/"
        },
        "id": "BqGLuV_OoFLS",
        "outputId": "b4921be1-da9d-4b4b-c033-487012838150"
      },
      "execution_count": 13,
      "outputs": [
        {
          "output_type": "stream",
          "name": "stdout",
          "text": [
            "1.0\n"
          ]
        }
      ]
    },
    {
      "cell_type": "markdown",
      "source": [],
      "metadata": {
        "id": "FihNzkNmr98N"
      }
    },
    {
      "cell_type": "markdown",
      "source": [
        "##Condicional"
      ],
      "metadata": {
        "id": "ttZaYbiLr9xr"
      }
    },
    {
      "cell_type": "code",
      "source": [
        "#if\n",
        "if 5 < 10:\n",
        "  print(\"Verdade\")"
      ],
      "metadata": {
        "colab": {
          "base_uri": "https://localhost:8080/"
        },
        "id": "sCBTKg2NsJXM",
        "outputId": "6a1a9e34-805a-4e21-b8b8-c9f9cacb063b"
      },
      "execution_count": 16,
      "outputs": [
        {
          "output_type": "stream",
          "name": "stdout",
          "text": [
            "Verdade\n"
          ]
        }
      ]
    },
    {
      "cell_type": "code",
      "source": [
        "#if/else\n",
        "\n",
        "num1 = 10\n",
        "num2 = 2\n",
        "\n",
        "if num1 > num2:\n",
        "   print('verdade')\n",
        "\n",
        "else:\n",
        "   print('falso')\n"
      ],
      "metadata": {
        "colab": {
          "base_uri": "https://localhost:8080/"
        },
        "id": "1C1_4eabuHsX",
        "outputId": "d64b820c-2729-41fe-df2f-09f5fbc104c9"
      },
      "execution_count": 41,
      "outputs": [
        {
          "output_type": "stream",
          "name": "stdout",
          "text": [
            "verdade\n"
          ]
        }
      ]
    },
    {
      "cell_type": "code",
      "source": [
        "#if / Elif / Else\n",
        "num1 = 50\n",
        "num2 = 10\n",
        "if num1 > num2:\n",
        "  print('O num1 eo maior numero')\n",
        "elif num1 < num2:\n",
        "  print('O num2 eo maior numero')\n",
        "else:\n",
        "  print('Os dois são iguais')"
      ],
      "metadata": {
        "colab": {
          "base_uri": "https://localhost:8080/"
        },
        "id": "Fmqs0gmFwxpF",
        "outputId": "e19a859f-897d-485d-e861-e14cc614329a"
      },
      "execution_count": 43,
      "outputs": [
        {
          "output_type": "stream",
          "name": "stdout",
          "text": [
            "O num1 eo maior numero\n"
          ]
        }
      ]
    },
    {
      "cell_type": "markdown",
      "source": [
        "##Condicional com operadores lógicos"
      ],
      "metadata": {
        "id": "4DIkQ-iTyTIG"
      }
    },
    {
      "cell_type": "code",
      "source": [
        "num1 = 50\n",
        "num2 = 5\n",
        "num3 = 2\n",
        "if (num1 > num2) and (num1 > num3):\n",
        "    print('O num1 é o maior número')\n",
        "else:\n",
        "    print('O num1 não é o maior número')\n"
      ],
      "metadata": {
        "colab": {
          "base_uri": "https://localhost:8080/"
        },
        "id": "2YIVhcmyya0h",
        "outputId": "a6b8731a-ae34-45d0-fac5-0609c04a8dd5"
      },
      "execution_count": 46,
      "outputs": [
        {
          "output_type": "stream",
          "name": "stdout",
          "text": [
            "O num1 é o maior número\n"
          ]
        }
      ]
    },
    {
      "cell_type": "markdown",
      "source": [
        "##Lista, tuplas e dicionário"
      ],
      "metadata": {
        "id": "QFY1OWLITjEy"
      }
    },
    {
      "cell_type": "code",
      "source": [
        "# Lista\n",
        "lista = [1, 2, 3, 4, 5]\n",
        "print(lista)"
      ],
      "metadata": {
        "colab": {
          "base_uri": "https://localhost:8080/"
        },
        "id": "M-uQp7ubTrNi",
        "outputId": "bc6bb003-cd91-4e9c-a281-cdd36020829f"
      },
      "execution_count": 19,
      "outputs": [
        {
          "output_type": "stream",
          "name": "stdout",
          "text": [
            "[1, 2, 3, 4, 5]\n"
          ]
        }
      ]
    },
    {
      "cell_type": "code",
      "source": [
        "# Tupla\n",
        "tupla = (1, 2, 3, 4, 5)\n",
        "print(tupla)"
      ],
      "metadata": {
        "colab": {
          "base_uri": "https://localhost:8080/"
        },
        "id": "ucsoGp8ZVqT4",
        "outputId": "550b7afa-60fe-4e94-c7ed-8567ce7b0766"
      },
      "execution_count": 24,
      "outputs": [
        {
          "output_type": "stream",
          "name": "stdout",
          "text": [
            "(1, 2, 3, 4, 5)\n"
          ]
        }
      ]
    },
    {
      "cell_type": "markdown",
      "source": [],
      "metadata": {
        "id": "uZzFk988Vp3k"
      }
    },
    {
      "cell_type": "code",
      "source": [
        "# Dicionário\n",
        "Dicionario = {'num1': 1, 'num2': 2}\n",
        "print(Dicionario)"
      ],
      "metadata": {
        "colab": {
          "base_uri": "https://localhost:8080/"
        },
        "id": "oZJc_53-b33t",
        "outputId": "0cffa979-8547-410d-83f9-7ff667ba79e4"
      },
      "execution_count": 29,
      "outputs": [
        {
          "output_type": "stream",
          "name": "stdout",
          "text": [
            "{'num1': 1, 'num2': 2}\n"
          ]
        }
      ]
    },
    {
      "cell_type": "markdown",
      "source": [
        "##Lista"
      ],
      "metadata": {
        "id": "b5kIUIt2fDRZ"
      }
    },
    {
      "cell_type": "code",
      "source": [
        "lista = [5, 'Rodrigo', 8,9]"
      ],
      "metadata": {
        "id": "DoyKxJsifQzX"
      },
      "execution_count": 30,
      "outputs": []
    },
    {
      "cell_type": "code",
      "source": [
        "type(lista)"
      ],
      "metadata": {
        "id": "h_z_62cXffHV"
      },
      "execution_count": null,
      "outputs": []
    },
    {
      "cell_type": "code",
      "source": [
        "lista.append(\"Augusto\") # Adicionar um elemento na lista"
      ],
      "metadata": {
        "id": "9lhpkzJ_flMc"
      },
      "execution_count": null,
      "outputs": []
    },
    {
      "cell_type": "code",
      "source": [
        "print(lista)\n",
        "print(lista[1])"
      ],
      "metadata": {
        "id": "W3U1vXwGfx3w"
      },
      "execution_count": null,
      "outputs": []
    },
    {
      "cell_type": "markdown",
      "source": [
        "##Tupla"
      ],
      "metadata": {
        "id": "57iF_FVif60m"
      }
    },
    {
      "cell_type": "code",
      "source": [
        "tupla = (5, 'Rodrigo',8.9)"
      ],
      "metadata": {
        "id": "5vMYTn5yf-aS"
      },
      "execution_count": null,
      "outputs": []
    },
    {
      "cell_type": "code",
      "source": [
        "type(tupla)"
      ],
      "metadata": {
        "id": "zSJk8-FvgbGf"
      },
      "execution_count": null,
      "outputs": []
    },
    {
      "cell_type": "code",
      "source": [
        "tupla.append(\"Agusto\")"
      ],
      "metadata": {
        "id": "P0H8c5FUggY6"
      },
      "execution_count": null,
      "outputs": []
    },
    {
      "cell_type": "code",
      "source": [
        "print(tupla)"
      ],
      "metadata": {
        "id": "jZ_tHGw5goTz"
      },
      "execution_count": null,
      "outputs": []
    },
    {
      "cell_type": "markdown",
      "source": [
        "##Dicionário"
      ],
      "metadata": {
        "id": "wWoE9FeugzDf"
      }
    },
    {
      "cell_type": "code",
      "source": [
        "dicoionario = {'nome':'Rodrigo','cidade': 'São José dos Campos'}\n",
        "print(dicoionario)"
      ],
      "metadata": {
        "colab": {
          "base_uri": "https://localhost:8080/"
        },
        "id": "wODPsgXghGLg",
        "outputId": "f6890564-5ca5-4340-d699-0b623d987878"
      },
      "execution_count": 33,
      "outputs": [
        {
          "output_type": "stream",
          "name": "stdout",
          "text": [
            "{'nome': 'Rodrigo', 'cidade': 'São José dos Campos'}\n"
          ]
        }
      ]
    },
    {
      "cell_type": "code",
      "source": [
        "type(dicionario)"
      ],
      "metadata": {
        "id": "L94vsCfPhk0X"
      },
      "execution_count": null,
      "outputs": []
    },
    {
      "cell_type": "code",
      "source": [
        "print(dicionario)"
      ],
      "metadata": {
        "id": "6FNi3C5YhqD2"
      },
      "execution_count": null,
      "outputs": []
    },
    {
      "cell_type": "code",
      "source": [
        "print(dicionario['nome'])"
      ],
      "metadata": {
        "id": "j6I85KEuhvJo"
      },
      "execution_count": null,
      "outputs": []
    },
    {
      "cell_type": "code",
      "source": [
        "dicionario['ultima_nome'] = 'Rebouças'"
      ],
      "metadata": {
        "id": "KlaPhVvDh6Hl"
      },
      "execution_count": null,
      "outputs": []
    },
    {
      "cell_type": "code",
      "source": [
        "print(dicionario)"
      ],
      "metadata": {
        "id": "-f4FxyxfiIrZ"
      },
      "execution_count": null,
      "outputs": []
    },
    {
      "cell_type": "markdown",
      "source": [
        "##Estrutura de repetição"
      ],
      "metadata": {
        "id": "kcYt69G-nWD2"
      }
    },
    {
      "cell_type": "markdown",
      "source": [
        "##For"
      ],
      "metadata": {
        "id": "PEhrsp7mnpzf"
      }
    },
    {
      "cell_type": "code",
      "source": [
        "# For Ranger\n",
        "for contador in range(10):\n",
        "  print(contador)"
      ],
      "metadata": {
        "colab": {
          "base_uri": "https://localhost:8080/"
        },
        "id": "XlZJAA7cnr7H",
        "outputId": "07c3e02b-0552-476a-8a3b-b5ca63581781"
      },
      "execution_count": 35,
      "outputs": [
        {
          "output_type": "stream",
          "name": "stdout",
          "text": [
            "0\n",
            "1\n",
            "2\n",
            "3\n",
            "4\n",
            "5\n",
            "6\n",
            "7\n",
            "8\n",
            "9\n"
          ]
        }
      ]
    },
    {
      "cell_type": "code",
      "source": [
        "# For Ranger + Break\n",
        "for contador in range(1000):\n",
        "  print(contador)\n",
        "  if contador == 2:\n",
        "    break"
      ],
      "metadata": {
        "id": "Gvpt_E7FoFJy"
      },
      "execution_count": null,
      "outputs": []
    },
    {
      "cell_type": "code",
      "source": [
        "lista = [\"Test1\", \"Test2\"]"
      ],
      "metadata": {
        "id": "q8CS5elFqMcA"
      },
      "execution_count": null,
      "outputs": []
    },
    {
      "cell_type": "code",
      "source": [
        "# For Simples\n",
        "for val in lista:\n",
        "  print(val)"
      ],
      "metadata": {
        "id": "AzPhRy15okzM"
      },
      "execution_count": null,
      "outputs": []
    },
    {
      "cell_type": "code",
      "source": [
        "# for com Enumerate\n",
        "for i, val in enumerate(lista):\n",
        "  print(i, val)"
      ],
      "metadata": {
        "id": "t8ctO6uTqnJS"
      },
      "execution_count": null,
      "outputs": []
    },
    {
      "cell_type": "markdown",
      "source": [
        "##For com operadores compostos"
      ],
      "metadata": {
        "id": "0QjTubHLq0N4"
      }
    },
    {
      "cell_type": "code",
      "source": [
        "lista2 = [2, 3, 4]"
      ],
      "metadata": {
        "id": "vqL91fW_rVjr"
      },
      "execution_count": 39,
      "outputs": []
    },
    {
      "cell_type": "code",
      "source": [
        "for val in lista2:\n",
        "    val += 1\n",
        "    print(val)"
      ],
      "metadata": {
        "colab": {
          "base_uri": "https://localhost:8080/"
        },
        "id": "rRciX1qOq8UK",
        "outputId": "fc9e3a9f-d02c-4e93-9a54-1b329b2c2dff"
      },
      "execution_count": 40,
      "outputs": [
        {
          "output_type": "stream",
          "name": "stdout",
          "text": [
            "3\n",
            "4\n",
            "5\n"
          ]
        }
      ]
    },
    {
      "cell_type": "code",
      "source": [
        "for val in lista2:\n",
        "    val *= 1\n",
        "    print(val)"
      ],
      "metadata": {
        "colab": {
          "base_uri": "https://localhost:8080/"
        },
        "id": "M42nkIActDbu",
        "outputId": "48798812-6d99-4970-c31e-c2cd469dc3d9"
      },
      "execution_count": 41,
      "outputs": [
        {
          "output_type": "stream",
          "name": "stdout",
          "text": [
            "2\n",
            "3\n",
            "4\n"
          ]
        }
      ]
    },
    {
      "cell_type": "markdown",
      "source": [
        "##While"
      ],
      "metadata": {
        "id": "zQZ6pFn2tJ4u"
      }
    },
    {
      "cell_type": "code",
      "source": [
        "val = 1\n",
        "while (val < 6):\n",
        "  val *=2\n",
        "  print(val)\n",
        ""
      ],
      "metadata": {
        "colab": {
          "base_uri": "https://localhost:8080/"
        },
        "id": "6BUzPUUktvxm",
        "outputId": "baefe135-767d-4dd6-d330-0bc241ae7e48"
      },
      "execution_count": 42,
      "outputs": [
        {
          "output_type": "stream",
          "name": "stdout",
          "text": [
            "2\n",
            "4\n",
            "8\n"
          ]
        }
      ]
    },
    {
      "cell_type": "code",
      "source": [
        "# While com else\n",
        "val = 1\n",
        "while val < 6:\n",
        "    val *=2\n",
        "else:\n",
        "     print('Valor de val é: ', val)"
      ],
      "metadata": {
        "colab": {
          "base_uri": "https://localhost:8080/"
        },
        "id": "pTfwxDJyuXUf",
        "outputId": "85b25b77-7314-45d0-825d-8375a6556fd3"
      },
      "execution_count": 45,
      "outputs": [
        {
          "output_type": "stream",
          "name": "stdout",
          "text": [
            "Valor de val é:  8\n"
          ]
        }
      ]
    },
    {
      "cell_type": "markdown",
      "source": [
        "##Calculadora"
      ],
      "metadata": {
        "id": "B280V7Td38fn"
      }
    },
    {
      "cell_type": "code",
      "source": [
        "Valor_A = int(input(\"Digite o ValorA: \"))\n",
        "Valor_B = int(input(\"Digite O ValorB: \"))\n",
        "operação = input(\"Digite a operação (+, -, *, /): \")\n",
        "if   operação == \"+\":\n",
        "    resultado = Valor_A + Valor_B\n",
        "elif operação == \"-\":\n",
        "    resultado = Valor_A - Valor_B\n",
        "elif operação == \"*\":\n",
        "    resultado = Valor_A * Valor_B\n",
        "elif operação == \"/\":\n",
        "    resultado = Valor_A / Valor_B\n",
        "else:\n",
        "    print(\"Operação inválida\")\n",
        "    resultado = None\n",
        "\n",
        "if  resultado is not None:\n",
        "    print(f\"O resultado é: {resultado}\")"
      ],
      "metadata": {
        "colab": {
          "base_uri": "https://localhost:8080/"
        },
        "id": "XRGVXYvF4AJj",
        "outputId": "96feba24-5e1a-46d1-c04d-f0e04dab0f3f"
      },
      "execution_count": 27,
      "outputs": [
        {
          "output_type": "stream",
          "name": "stdout",
          "text": [
            "Digite o ValorA: 5\n",
            "Digite O ValorB: 5\n",
            "Digite a operação (+, -, *, /): +\n",
            "O resultado é: 10\n"
          ]
        }
      ]
    }
  ]
}